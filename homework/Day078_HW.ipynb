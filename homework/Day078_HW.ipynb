{
 "cells": [
  {
   "cell_type": "markdown",
   "metadata": {},
   "source": [
    "## Work\n",
    "1. 請嘗試將 preproc_x 替換成以每筆資料的 min/max 進行標準化至 -1 ~ 1 間，再進行訓練\n",
    "2. 請嘗試將 mlp 疊更深 (e.g 5~10 層)，進行訓練後觀察 learning curve 的走勢\n",
    "3. (optional) 請改用 GPU 進行訓練 (如果你有 GPU 的話)，比較使用 CPU 與 GPU 的訓練速度"
   ]
  },
  {
   "cell_type": "code",
   "execution_count": 1,
   "metadata": {},
   "outputs": [
    {
     "data": {
      "text/plain": [
       "'\\nYour code here (optional)\\n確認硬體資源\\n'"
      ]
     },
     "execution_count": 1,
     "metadata": {},
     "output_type": "execute_result"
    }
   ],
   "source": [
    "## \n",
    "\"\"\"\n",
    "Your code here (optional)\n",
    "確認硬體資源\n",
    "\"\"\"\n"
   ]
  },
  {
   "cell_type": "code",
   "execution_count": 2,
   "metadata": {},
   "outputs": [
    {
     "name": "stderr",
     "output_type": "stream",
     "text": [
      "Using TensorFlow backend.\n"
     ]
    }
   ],
   "source": [
    "import os\n",
    "import keras\n",
    "\n",
    "# 請嘗試設定 GPU：os.environ\n",
    "os.environ[\"CUDA_VISIBLE_DEVICES\"] = \"\""
   ]
  },
  {
   "cell_type": "code",
   "execution_count": 3,
   "metadata": {},
   "outputs": [],
   "source": [
    "train, test = keras.datasets.cifar10.load_data()"
   ]
  },
  {
   "cell_type": "code",
   "execution_count": 4,
   "metadata": {},
   "outputs": [],
   "source": [
    "## 資料前處理\n",
    "\"\"\"\n",
    "Your code here\n",
    "\"\"\"\n",
    "def preproc_x(x, flatten=True):\n",
    "    x = 2*x/255-1\n",
    "    if flatten:\n",
    "        x = x.reshape((len(x), -1))\n",
    "    return x\n",
    "\n",
    "def preproc_y(y, num_classes=10):\n",
    "    if y.shape[-1] == 1:\n",
    "        y = keras.utils.to_categorical(y, num_classes)\n",
    "    return y"
   ]
  },
  {
   "cell_type": "code",
   "execution_count": 5,
   "metadata": {},
   "outputs": [],
   "source": [
    "x_train, y_train = train\n",
    "x_test, y_test = test\n",
    "\n",
    "# Preproc the inputs\n",
    "x_train = preproc_x(x_train)\n",
    "x_test = preproc_x(x_test)\n",
    "\n",
    "# Preprc the outputs\n",
    "y_train = preproc_y(y_train)\n",
    "y_test = preproc_y(y_test)"
   ]
  },
  {
   "cell_type": "code",
   "execution_count": 7,
   "metadata": {},
   "outputs": [
    {
     "name": "stdout",
     "output_type": "stream",
     "text": [
      "Model: \"model_2\"\n",
      "_________________________________________________________________\n",
      "Layer (type)                 Output Shape              Param #   \n",
      "=================================================================\n",
      "input_2 (InputLayer)         (None, 3072)              0         \n",
      "_________________________________________________________________\n",
      "hidden_layer1 (Dense)        (None, 512)               1573376   \n",
      "_________________________________________________________________\n",
      "hidden_layer2 (Dense)        (None, 256)               131328    \n",
      "_________________________________________________________________\n",
      "hidden_layer3 (Dense)        (None, 128)               32896     \n",
      "_________________________________________________________________\n",
      "output (Dense)               (None, 10)                1290      \n",
      "=================================================================\n",
      "Total params: 1,738,890\n",
      "Trainable params: 1,738,890\n",
      "Non-trainable params: 0\n",
      "_________________________________________________________________\n"
     ]
    }
   ],
   "source": [
    "\"\"\"Code Here\n",
    "建立你的神經網路\n",
    "\"\"\"\n",
    "def build_mlp(input_shape, output_units=10, num_neurons=[512, 256, 128]):\n",
    "    input_layer = keras.layers.Input(input_shape)\n",
    "    \n",
    "    for i, n_units in enumerate(num_neurons):\n",
    "        if i == 0:\n",
    "            x = keras.layers.Dense(units=n_units, activation=\"relu\", name=\"hidden_layer\"+str(i+1))(input_layer)\n",
    "        else:\n",
    "            x = keras.layers.Dense(units=n_units, activation=\"relu\", name=\"hidden_layer\"+str(i+1))(x)\n",
    "    \n",
    "    out = keras.layers.Dense(units=output_units, activation=\"softmax\", name=\"output\")(x)\n",
    "    \n",
    "    model = keras.models.Model(inputs=[input_layer], outputs=[out])\n",
    "    return model\n",
    "model = build_mlp(input_shape=x_train.shape[1:])\n",
    "model.summary()"
   ]
  },
  {
   "cell_type": "code",
   "execution_count": 8,
   "metadata": {},
   "outputs": [],
   "source": [
    "## 超參數設定\n",
    "LEARNING_RATE = 0.001\n",
    "EPOCHS = 100\n",
    "BATCH_SIZE = 256"
   ]
  },
  {
   "cell_type": "code",
   "execution_count": 9,
   "metadata": {},
   "outputs": [],
   "source": [
    "optimizer = keras.optimizers.Adam(lr=LEARNING_RATE)\n",
    "model.compile(loss=\"categorical_crossentropy\", metrics=[\"accuracy\"], optimizer=optimizer)"
   ]
  },
  {
   "cell_type": "code",
   "execution_count": 10,
   "metadata": {},
   "outputs": [
    {
     "name": "stdout",
     "output_type": "stream",
     "text": [
      "Train on 50000 samples, validate on 10000 samples\n",
      "Epoch 1/100\n",
      "50000/50000 [==============================] - 5s 104us/step - loss: 2.2362 - accuracy: 0.1672 - val_loss: 2.1646 - val_accuracy: 0.2038\n",
      "Epoch 2/100\n",
      "50000/50000 [==============================] - 5s 101us/step - loss: 2.1095 - accuracy: 0.2291 - val_loss: 2.0633 - val_accuracy: 0.2427\n",
      "Epoch 3/100\n",
      "50000/50000 [==============================] - 5s 101us/step - loss: 2.0240 - accuracy: 0.2649 - val_loss: 2.0407 - val_accuracy: 0.2612\n",
      "Epoch 4/100\n",
      "50000/50000 [==============================] - 5s 100us/step - loss: 1.9798 - accuracy: 0.2845 - val_loss: 2.0118 - val_accuracy: 0.2722\n",
      "Epoch 5/100\n",
      "50000/50000 [==============================] - 5s 103us/step - loss: 1.9439 - accuracy: 0.2990 - val_loss: 1.9789 - val_accuracy: 0.2805\n",
      "Epoch 6/100\n",
      "50000/50000 [==============================] - 5s 100us/step - loss: 1.9093 - accuracy: 0.3139 - val_loss: 1.9789 - val_accuracy: 0.2771\n",
      "Epoch 7/100\n",
      "50000/50000 [==============================] - 5s 101us/step - loss: 1.8683 - accuracy: 0.3318 - val_loss: 1.9443 - val_accuracy: 0.2998\n",
      "Epoch 8/100\n",
      "50000/50000 [==============================] - 5s 101us/step - loss: 1.8376 - accuracy: 0.3441 - val_loss: 1.9629 - val_accuracy: 0.2938\n",
      "Epoch 9/100\n",
      "50000/50000 [==============================] - 5s 101us/step - loss: 1.8111 - accuracy: 0.3540 - val_loss: 1.9469 - val_accuracy: 0.3004\n",
      "Epoch 10/100\n",
      "50000/50000 [==============================] - 5s 103us/step - loss: 1.7747 - accuracy: 0.3657 - val_loss: 1.9771 - val_accuracy: 0.2981\n",
      "Epoch 11/100\n",
      "50000/50000 [==============================] - 5s 108us/step - loss: 1.7377 - accuracy: 0.3833 - val_loss: 1.9919 - val_accuracy: 0.2907\n",
      "Epoch 12/100\n",
      "50000/50000 [==============================] - 5s 103us/step - loss: 1.7070 - accuracy: 0.3938 - val_loss: 2.0029 - val_accuracy: 0.2944\n",
      "Epoch 13/100\n",
      "50000/50000 [==============================] - 5s 104us/step - loss: 1.6718 - accuracy: 0.4076 - val_loss: 2.0109 - val_accuracy: 0.2955\n",
      "Epoch 14/100\n",
      "50000/50000 [==============================] - 5s 103us/step - loss: 1.6341 - accuracy: 0.4203 - val_loss: 2.0283 - val_accuracy: 0.3029\n",
      "Epoch 15/100\n",
      "50000/50000 [==============================] - 5s 103us/step - loss: 1.5919 - accuracy: 0.4387 - val_loss: 1.9709 - val_accuracy: 0.3141\n",
      "Epoch 16/100\n",
      "50000/50000 [==============================] - 5s 102us/step - loss: 1.5499 - accuracy: 0.4505 - val_loss: 2.0178 - val_accuracy: 0.3048\n",
      "Epoch 17/100\n",
      "50000/50000 [==============================] - 5s 104us/step - loss: 1.5193 - accuracy: 0.4626 - val_loss: 2.0715 - val_accuracy: 0.3083\n",
      "Epoch 18/100\n",
      "50000/50000 [==============================] - 5s 101us/step - loss: 1.4808 - accuracy: 0.4769 - val_loss: 2.0701 - val_accuracy: 0.3000\n",
      "Epoch 19/100\n",
      "50000/50000 [==============================] - 5s 101us/step - loss: 1.4423 - accuracy: 0.4898 - val_loss: 2.1056 - val_accuracy: 0.3036\n",
      "Epoch 20/100\n",
      "50000/50000 [==============================] - 5s 104us/step - loss: 1.4010 - accuracy: 0.5057 - val_loss: 2.1022 - val_accuracy: 0.3052\n",
      "Epoch 21/100\n",
      "50000/50000 [==============================] - 5s 104us/step - loss: 1.3509 - accuracy: 0.5242 - val_loss: 2.1700 - val_accuracy: 0.3136\n",
      "Epoch 22/100\n",
      "50000/50000 [==============================] - 5s 103us/step - loss: 1.3236 - accuracy: 0.5356 - val_loss: 2.1862 - val_accuracy: 0.3035\n",
      "Epoch 23/100\n",
      "50000/50000 [==============================] - 5s 106us/step - loss: 1.2772 - accuracy: 0.5515 - val_loss: 2.1781 - val_accuracy: 0.2970\n",
      "Epoch 24/100\n",
      "50000/50000 [==============================] - 5s 102us/step - loss: 1.2446 - accuracy: 0.5632 - val_loss: 2.3090 - val_accuracy: 0.2951\n",
      "Epoch 25/100\n",
      "50000/50000 [==============================] - 5s 102us/step - loss: 1.1924 - accuracy: 0.5808 - val_loss: 2.3287 - val_accuracy: 0.2994\n",
      "Epoch 26/100\n",
      "50000/50000 [==============================] - 5s 102us/step - loss: 1.1545 - accuracy: 0.5943 - val_loss: 2.4670 - val_accuracy: 0.2827\n",
      "Epoch 27/100\n",
      "50000/50000 [==============================] - 5s 102us/step - loss: 1.1287 - accuracy: 0.6038 - val_loss: 2.4800 - val_accuracy: 0.2891\n",
      "Epoch 28/100\n",
      "50000/50000 [==============================] - 5s 103us/step - loss: 1.0833 - accuracy: 0.6215 - val_loss: 2.4555 - val_accuracy: 0.2995\n",
      "Epoch 29/100\n",
      "50000/50000 [==============================] - 5s 104us/step - loss: 1.0294 - accuracy: 0.6420 - val_loss: 2.6482 - val_accuracy: 0.2833\n",
      "Epoch 30/100\n",
      "50000/50000 [==============================] - 5s 102us/step - loss: 0.9989 - accuracy: 0.6516 - val_loss: 2.6691 - val_accuracy: 0.2856\n",
      "Epoch 31/100\n",
      "50000/50000 [==============================] - 5s 102us/step - loss: 0.9682 - accuracy: 0.6610 - val_loss: 2.7797 - val_accuracy: 0.2882\n",
      "Epoch 32/100\n",
      "50000/50000 [==============================] - 5s 107us/step - loss: 0.9253 - accuracy: 0.6761 - val_loss: 2.6434 - val_accuracy: 0.2919\n",
      "Epoch 33/100\n",
      "50000/50000 [==============================] - 5s 105us/step - loss: 0.8935 - accuracy: 0.6882 - val_loss: 2.7719 - val_accuracy: 0.2904\n",
      "Epoch 34/100\n",
      "50000/50000 [==============================] - 5s 104us/step - loss: 0.8616 - accuracy: 0.6999 - val_loss: 2.8957 - val_accuracy: 0.2795\n",
      "Epoch 35/100\n",
      "50000/50000 [==============================] - 6s 116us/step - loss: 0.8154 - accuracy: 0.7150 - val_loss: 2.9495 - val_accuracy: 0.2894\n",
      "Epoch 36/100\n",
      "50000/50000 [==============================] - 6s 120us/step - loss: 0.7661 - accuracy: 0.7341 - val_loss: 3.1403 - val_accuracy: 0.2816\n",
      "Epoch 37/100\n",
      "50000/50000 [==============================] - 6s 126us/step - loss: 0.7484 - accuracy: 0.7388 - val_loss: 3.1131 - val_accuracy: 0.2836\n",
      "Epoch 38/100\n",
      "50000/50000 [==============================] - 5s 110us/step - loss: 0.7258 - accuracy: 0.7488 - val_loss: 3.2886 - val_accuracy: 0.2839\n",
      "Epoch 39/100\n",
      "50000/50000 [==============================] - 5s 104us/step - loss: 0.6817 - accuracy: 0.7640 - val_loss: 3.2875 - val_accuracy: 0.2879\n",
      "Epoch 40/100\n",
      "50000/50000 [==============================] - 5s 107us/step - loss: 0.6759 - accuracy: 0.7658 - val_loss: 3.4547 - val_accuracy: 0.2819\n",
      "Epoch 41/100\n",
      "50000/50000 [==============================] - 5s 109us/step - loss: 0.6377 - accuracy: 0.7784 - val_loss: 3.3983 - val_accuracy: 0.2840\n",
      "Epoch 42/100\n",
      "50000/50000 [==============================] - 5s 107us/step - loss: 0.5961 - accuracy: 0.7949 - val_loss: 3.5793 - val_accuracy: 0.2742\n",
      "Epoch 43/100\n",
      "50000/50000 [==============================] - 6s 113us/step - loss: 0.5875 - accuracy: 0.7964 - val_loss: 3.7011 - val_accuracy: 0.2771\n",
      "Epoch 44/100\n",
      "50000/50000 [==============================] - 6s 113us/step - loss: 0.5495 - accuracy: 0.8099 - val_loss: 3.7598 - val_accuracy: 0.2821\n",
      "Epoch 45/100\n",
      "50000/50000 [==============================] - 5s 108us/step - loss: 0.5441 - accuracy: 0.8097 - val_loss: 3.8031 - val_accuracy: 0.2848\n",
      "Epoch 46/100\n",
      "50000/50000 [==============================] - 5s 107us/step - loss: 0.5310 - accuracy: 0.8180 - val_loss: 4.0152 - val_accuracy: 0.2866\n",
      "Epoch 47/100\n",
      "50000/50000 [==============================] - 5s 109us/step - loss: 0.4815 - accuracy: 0.8338 - val_loss: 4.0212 - val_accuracy: 0.2828\n",
      "Epoch 48/100\n",
      "50000/50000 [==============================] - 5s 105us/step - loss: 0.4768 - accuracy: 0.8353 - val_loss: 4.2656 - val_accuracy: 0.2834\n",
      "Epoch 49/100\n",
      "50000/50000 [==============================] - 5s 106us/step - loss: 0.4435 - accuracy: 0.8476 - val_loss: 4.2391 - val_accuracy: 0.2765\n",
      "Epoch 50/100\n",
      "50000/50000 [==============================] - 5s 103us/step - loss: 0.4128 - accuracy: 0.8601 - val_loss: 4.3485 - val_accuracy: 0.2658\n",
      "Epoch 51/100\n",
      "50000/50000 [==============================] - 5s 103us/step - loss: 0.4375 - accuracy: 0.8492 - val_loss: 4.4632 - val_accuracy: 0.2739\n",
      "Epoch 52/100\n",
      "50000/50000 [==============================] - 5s 105us/step - loss: 0.4212 - accuracy: 0.8540 - val_loss: 4.4875 - val_accuracy: 0.2790\n",
      "Epoch 53/100\n",
      "50000/50000 [==============================] - 5s 102us/step - loss: 0.3723 - accuracy: 0.8736 - val_loss: 4.7720 - val_accuracy: 0.2777\n",
      "Epoch 54/100\n",
      "50000/50000 [==============================] - 6s 111us/step - loss: 0.3701 - accuracy: 0.8727 - val_loss: 4.9143 - val_accuracy: 0.2669\n",
      "Epoch 55/100\n"
     ]
    },
    {
     "name": "stdout",
     "output_type": "stream",
     "text": [
      "50000/50000 [==============================] - 5s 108us/step - loss: 0.3618 - accuracy: 0.8740 - val_loss: 5.0283 - val_accuracy: 0.2844\n",
      "Epoch 56/100\n",
      "50000/50000 [==============================] - 5s 103us/step - loss: 0.3764 - accuracy: 0.8701 - val_loss: 4.8126 - val_accuracy: 0.2744\n",
      "Epoch 57/100\n",
      "50000/50000 [==============================] - 6s 113us/step - loss: 0.2993 - accuracy: 0.9005 - val_loss: 5.2308 - val_accuracy: 0.2783\n",
      "Epoch 58/100\n",
      "50000/50000 [==============================] - 5s 106us/step - loss: 0.3044 - accuracy: 0.8969 - val_loss: 5.1560 - val_accuracy: 0.2791\n",
      "Epoch 59/100\n",
      "50000/50000 [==============================] - 5s 105us/step - loss: 0.2735 - accuracy: 0.9094 - val_loss: 5.3861 - val_accuracy: 0.2798\n",
      "Epoch 60/100\n",
      "50000/50000 [==============================] - 5s 104us/step - loss: 0.3340 - accuracy: 0.8843 - val_loss: 5.5376 - val_accuracy: 0.2769\n",
      "Epoch 61/100\n",
      "50000/50000 [==============================] - 5s 102us/step - loss: 0.2835 - accuracy: 0.9039 - val_loss: 5.3613 - val_accuracy: 0.2728\n",
      "Epoch 62/100\n",
      "50000/50000 [==============================] - 5s 105us/step - loss: 0.2791 - accuracy: 0.9049 - val_loss: 5.6673 - val_accuracy: 0.2704\n",
      "Epoch 63/100\n",
      "50000/50000 [==============================] - 5s 108us/step - loss: 0.2289 - accuracy: 0.9242 - val_loss: 5.7451 - val_accuracy: 0.2820\n",
      "Epoch 64/100\n",
      "50000/50000 [==============================] - 5s 103us/step - loss: 0.2356 - accuracy: 0.9205 - val_loss: 5.8819 - val_accuracy: 0.2663\n",
      "Epoch 65/100\n",
      "50000/50000 [==============================] - 5s 104us/step - loss: 0.2703 - accuracy: 0.9061 - val_loss: 5.7944 - val_accuracy: 0.2714\n",
      "Epoch 66/100\n",
      "50000/50000 [==============================] - 5s 103us/step - loss: 0.2692 - accuracy: 0.9077 - val_loss: 5.9619 - val_accuracy: 0.2759\n",
      "Epoch 67/100\n",
      "50000/50000 [==============================] - 5s 104us/step - loss: 0.2060 - accuracy: 0.9313 - val_loss: 6.0411 - val_accuracy: 0.2773\n",
      "Epoch 68/100\n",
      "50000/50000 [==============================] - 5s 103us/step - loss: 0.2684 - accuracy: 0.9081 - val_loss: 6.1917 - val_accuracy: 0.2716\n",
      "Epoch 69/100\n",
      "50000/50000 [==============================] - 5s 103us/step - loss: 0.2441 - accuracy: 0.9172 - val_loss: 6.3892 - val_accuracy: 0.2713\n",
      "Epoch 70/100\n",
      "50000/50000 [==============================] - 5s 106us/step - loss: 0.2589 - accuracy: 0.9110 - val_loss: 6.2821 - val_accuracy: 0.2777\n",
      "Epoch 71/100\n",
      "50000/50000 [==============================] - 5s 106us/step - loss: 0.1915 - accuracy: 0.9368 - val_loss: 6.5969 - val_accuracy: 0.2756\n",
      "Epoch 72/100\n",
      "50000/50000 [==============================] - 5s 102us/step - loss: 0.2471 - accuracy: 0.9176 - val_loss: 6.4989 - val_accuracy: 0.2667\n",
      "Epoch 73/100\n",
      "50000/50000 [==============================] - 5s 103us/step - loss: 0.2547 - accuracy: 0.9127 - val_loss: 6.4353 - val_accuracy: 0.2790\n",
      "Epoch 74/100\n",
      "50000/50000 [==============================] - 5s 102us/step - loss: 0.1464 - accuracy: 0.9520 - val_loss: 6.3828 - val_accuracy: 0.2831\n",
      "Epoch 75/100\n",
      "50000/50000 [==============================] - 5s 102us/step - loss: 0.1750 - accuracy: 0.9421 - val_loss: 6.9597 - val_accuracy: 0.2777\n",
      "Epoch 76/100\n",
      "50000/50000 [==============================] - 5s 101us/step - loss: 0.2325 - accuracy: 0.9198 - val_loss: 6.6498 - val_accuracy: 0.2715\n",
      "Epoch 77/100\n",
      "50000/50000 [==============================] - 5s 102us/step - loss: 0.1829 - accuracy: 0.9393 - val_loss: 6.7862 - val_accuracy: 0.2733\n",
      "Epoch 78/100\n",
      "50000/50000 [==============================] - 5s 101us/step - loss: 0.2101 - accuracy: 0.9283 - val_loss: 6.7694 - val_accuracy: 0.2800\n",
      "Epoch 79/100\n",
      "50000/50000 [==============================] - 5s 101us/step - loss: 0.1960 - accuracy: 0.9318 - val_loss: 6.8805 - val_accuracy: 0.2752\n",
      "Epoch 80/100\n",
      "50000/50000 [==============================] - 5s 101us/step - loss: 0.1418 - accuracy: 0.9520 - val_loss: 7.2588 - val_accuracy: 0.2650\n",
      "Epoch 81/100\n",
      "50000/50000 [==============================] - 5s 101us/step - loss: 0.1997 - accuracy: 0.9308 - val_loss: 7.1524 - val_accuracy: 0.2763\n",
      "Epoch 82/100\n",
      "50000/50000 [==============================] - 5s 105us/step - loss: 0.0973 - accuracy: 0.9697 - val_loss: 7.3379 - val_accuracy: 0.2774\n",
      "Epoch 83/100\n",
      "50000/50000 [==============================] - 5s 102us/step - loss: 0.2358 - accuracy: 0.9187 - val_loss: 6.8615 - val_accuracy: 0.2751\n",
      "Epoch 84/100\n",
      "50000/50000 [==============================] - 5s 103us/step - loss: 0.2122 - accuracy: 0.9262 - val_loss: 7.0216 - val_accuracy: 0.2775\n",
      "Epoch 85/100\n",
      "50000/50000 [==============================] - 5s 106us/step - loss: 0.1706 - accuracy: 0.9420 - val_loss: 7.3289 - val_accuracy: 0.2714\n",
      "Epoch 86/100\n",
      "50000/50000 [==============================] - 5s 105us/step - loss: 0.1255 - accuracy: 0.9591 - val_loss: 7.3210 - val_accuracy: 0.2752\n",
      "Epoch 87/100\n",
      "50000/50000 [==============================] - 5s 104us/step - loss: 0.2383 - accuracy: 0.9199 - val_loss: 7.0906 - val_accuracy: 0.2636\n",
      "Epoch 88/100\n",
      "50000/50000 [==============================] - 5s 101us/step - loss: 0.1900 - accuracy: 0.9347 - val_loss: 7.2130 - val_accuracy: 0.2777\n",
      "Epoch 89/100\n",
      "50000/50000 [==============================] - 5s 104us/step - loss: 0.1354 - accuracy: 0.9535 - val_loss: 7.5232 - val_accuracy: 0.2742\n",
      "Epoch 90/100\n",
      "50000/50000 [==============================] - 5s 106us/step - loss: 0.1004 - accuracy: 0.9673 - val_loss: 7.8828 - val_accuracy: 0.2739\n",
      "Epoch 91/100\n",
      "50000/50000 [==============================] - 5s 103us/step - loss: 0.1771 - accuracy: 0.9399 - val_loss: 7.7255 - val_accuracy: 0.2751\n",
      "Epoch 92/100\n",
      "50000/50000 [==============================] - 5s 104us/step - loss: 0.1192 - accuracy: 0.9603 - val_loss: 7.8279 - val_accuracy: 0.2729\n",
      "Epoch 93/100\n",
      "50000/50000 [==============================] - 5s 105us/step - loss: 0.2108 - accuracy: 0.9295 - val_loss: 7.4059 - val_accuracy: 0.2624\n",
      "Epoch 94/100\n",
      "50000/50000 [==============================] - 5s 102us/step - loss: 0.3127 - accuracy: 0.8962 - val_loss: 7.3261 - val_accuracy: 0.2815\n",
      "Epoch 95/100\n",
      "50000/50000 [==============================] - 5s 101us/step - loss: 0.0829 - accuracy: 0.9740 - val_loss: 7.9433 - val_accuracy: 0.2737\n",
      "Epoch 96/100\n",
      "50000/50000 [==============================] - 5s 102us/step - loss: 0.0531 - accuracy: 0.9855 - val_loss: 8.0591 - val_accuracy: 0.2764\n",
      "Epoch 97/100\n",
      "50000/50000 [==============================] - 5s 102us/step - loss: 0.1163 - accuracy: 0.9605 - val_loss: 7.8410 - val_accuracy: 0.2729\n",
      "Epoch 98/100\n",
      "50000/50000 [==============================] - 5s 102us/step - loss: 0.2703 - accuracy: 0.9087 - val_loss: 7.5320 - val_accuracy: 0.2734\n",
      "Epoch 99/100\n",
      "50000/50000 [==============================] - 5s 101us/step - loss: 0.1852 - accuracy: 0.9381 - val_loss: 7.8273 - val_accuracy: 0.2764\n",
      "Epoch 100/100\n",
      "50000/50000 [==============================] - 5s 103us/step - loss: 0.0965 - accuracy: 0.9684 - val_loss: 7.9370 - val_accuracy: 0.2704\n"
     ]
    },
    {
     "data": {
      "text/plain": [
       "<keras.callbacks.callbacks.History at 0x1a1623ba240>"
      ]
     },
     "execution_count": 10,
     "metadata": {},
     "output_type": "execute_result"
    }
   ],
   "source": [
    "model.fit(x_train, y_train, \n",
    "          epochs=EPOCHS, \n",
    "          batch_size=BATCH_SIZE, \n",
    "          validation_data=(x_test, y_test), \n",
    "          shuffle=True)"
   ]
  },
  {
   "cell_type": "code",
   "execution_count": 12,
   "metadata": {},
   "outputs": [
    {
     "data": {
      "image/png": "[encoded data removed]",
      "text/plain": [
       "<Figure size 432x288 with 1 Axes>"
      ]
     },
     "metadata": {
      "needs_background": "light"
     },
     "output_type": "display_data"
    },
    {
     "data": {
      "image/png": "[encoded data removed]",
      "text/plain": [
       "<Figure size 432x288 with 1 Axes>"
      ]
     },
     "metadata": {
      "needs_background": "light"
     },
     "output_type": "display_data"
    }
   ],
   "source": [
    "import matplotlib.pyplot as plt\n",
    "\n",
    "\n",
    "train_loss = model.history.history[\"loss\"]\n",
    "valid_loss = model.history.history[\"val_loss\"]\n",
    "\n",
    "train_acc = model.history.history[\"accuracy\"]\n",
    "valid_acc = model.history.history[\"val_accuracy\"]\n",
    "\n",
    "plt.plot(range(len(train_loss)), train_loss, label=\"train loss\")\n",
    "plt.plot(range(len(valid_loss)), valid_loss, label=\"valid loss\")\n",
    "plt.legend()\n",
    "plt.title(\"Loss\")\n",
    "plt.show()\n",
    "\n",
    "plt.plot(range(len(train_acc)), train_acc, label=\"train accuracy\")\n",
    "plt.plot(range(len(valid_acc)), valid_acc, label=\"valid accuracy\")\n",
    "plt.legend()\n",
    "plt.title(\"Accuracy\")\n",
    "plt.show()"
   ]
  },
  {
   "cell_type": "code",
   "execution_count": null,
   "metadata": {},
   "outputs": [],
   "source": []
  }
 ],
 "metadata": {
  "kernelspec": {
   "display_name": "Python 3",
   "language": "python",
   "name": "python3"
  },
  "language_info": {
   "codemirror_mode": {
    "name": "ipython",
    "version": 3
   },
   "file_extension": ".py",
   "mimetype": "text/x-python",
   "name": "python",
   "nbconvert_exporter": "python",
   "pygments_lexer": "ipython3",
   "version": "3.6.9"
  }
 },
 "nbformat": 4,
 "nbformat_minor": 2
}
