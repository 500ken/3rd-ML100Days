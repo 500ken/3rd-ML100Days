{
 "cells": [
  {
   "cell_type": "markdown",
   "metadata": {},
   "source": [
    "## 範例重點\n",
    "* 了解如何 reset Tensorflow Graph\n",
    "* 學習如何以迴圈方式訓練不同超參數的模型\n",
    "* 學習如何以迴圈方式繪圖"
   ]
  },
  {
   "cell_type": "code",
   "execution_count": 1,
   "metadata": {},
   "outputs": [
    {
     "name": "stderr",
     "output_type": "stream",
     "text": [
      "Using TensorFlow backend.\n"
     ]
    }
   ],
   "source": [
    "import os\n",
    "import keras\n",
    "\n",
    "# 本範例不需使用 GPU, 將 GPU 設定為 \"無\"\n",
    "os.environ[\"CUDA_VISIBLE_DEVICES\"] = \"\""
   ]
  },
  {
   "cell_type": "code",
   "execution_count": 2,
   "metadata": {},
   "outputs": [],
   "source": [
    "# 從 Keras 的內建功能中，取得 train 與 test 資料集\n",
    "train, test = keras.datasets.cifar10.load_data()"
   ]
  },
  {
   "cell_type": "code",
   "execution_count": 3,
   "metadata": {},
   "outputs": [],
   "source": [
    "## 資料前處理\n",
    "def preproc_x(x, flatten=True):\n",
    "    x = x / 255.\n",
    "    if flatten:\n",
    "        x = x.reshape((len(x), -1))\n",
    "    return x\n",
    "\n",
    "def preproc_y(y, num_classes=10):\n",
    "    if y.shape[-1] == 1:\n",
    "        y = keras.utils.to_categorical(y, num_classes)\n",
    "    return y    "
   ]
  },
  {
   "cell_type": "code",
   "execution_count": 4,
   "metadata": {},
   "outputs": [],
   "source": [
    "x_train, y_train = train\n",
    "x_test, y_test = test\n",
    "\n",
    "# 資料前處理 - X 標準化\n",
    "x_train = preproc_x(x_train)\n",
    "x_test = preproc_x(x_test)\n",
    "\n",
    "# 資料前處理 -Y 轉成 onehot\n",
    "y_train = preproc_y(y_train)\n",
    "y_test = preproc_y(y_test)"
   ]
  },
  {
   "cell_type": "code",
   "execution_count": 5,
   "metadata": {},
   "outputs": [],
   "source": [
    "def build_mlp(input_shape, output_units=10, num_neurons=[512, 256, 128]):\n",
    "    input_layer = keras.layers.Input(input_shape)\n",
    "    \n",
    "    for i, n_units in enumerate(num_neurons):\n",
    "        if i == 0:\n",
    "            x = keras.layers.Dense(units=n_units, activation=\"relu\", name=\"hidden_layer\"+str(i+1))(input_layer)\n",
    "        else:\n",
    "            x = keras.layers.Dense(units=n_units, activation=\"relu\", name=\"hidden_layer\"+str(i+1))(x)\n",
    "    \n",
    "    out = keras.layers.Dense(units=output_units, activation=\"softmax\", name=\"output\")(x)\n",
    "    \n",
    "    model = keras.models.Model(inputs=[input_layer], outputs=[out])\n",
    "    return model"
   ]
  },
  {
   "cell_type": "code",
   "execution_count": 6,
   "metadata": {},
   "outputs": [],
   "source": [
    "## 超參數設定\n",
    "LEARNING_RATE = [1e-1, 1e-2, 1e-3, 1e-4, 1e-5]\n",
    "EPOCHS = 50\n",
    "BATCH_SIZE = 256\n",
    "MOMENTUM = 0.95"
   ]
  },
  {
   "cell_type": "code",
   "execution_count": null,
   "metadata": {
    "scrolled": true
   },
   "outputs": [
    {
     "name": "stdout",
     "output_type": "stream",
     "text": [
      "Experiment with LR = 0.100000\n",
      "Model: \"model_1\"\n",
      "_________________________________________________________________\n",
      "Layer (type)                 Output Shape              Param #   \n",
      "=================================================================\n",
      "input_1 (InputLayer)         (None, 3072)              0         \n",
      "_________________________________________________________________\n",
      "hidden_layer1 (Dense)        (None, 512)               1573376   \n",
      "_________________________________________________________________\n",
      "hidden_layer2 (Dense)        (None, 256)               131328    \n",
      "_________________________________________________________________\n",
      "hidden_layer3 (Dense)        (None, 128)               32896     \n",
      "_________________________________________________________________\n",
      "output (Dense)               (None, 10)                1290      \n",
      "=================================================================\n",
      "Total params: 1,738,890\n",
      "Trainable params: 1,738,890\n",
      "Non-trainable params: 0\n",
      "_________________________________________________________________\n",
      "Train on 50000 samples, validate on 10000 samples\n",
      "Epoch 1/50\n",
      "50000/50000 [==============================] - 4s 88us/step - loss: 2.0110 - accuracy: 0.2604 - val_loss: 1.7748 - val_accuracy: 0.3611\n",
      "Epoch 2/50\n",
      "50000/50000 [==============================] - 4s 85us/step - loss: 1.7587 - accuracy: 0.3650 - val_loss: 1.7148 - val_accuracy: 0.3854\n",
      "Epoch 3/50\n",
      "50000/50000 [==============================] - 4s 85us/step - loss: 1.6939 - accuracy: 0.3909 - val_loss: 1.7441 - val_accuracy: 0.3761\n",
      "Epoch 4/50\n",
      "50000/50000 [==============================] - 4s 84us/step - loss: 1.6673 - accuracy: 0.4038 - val_loss: 1.7073 - val_accuracy: 0.3920\n",
      "Epoch 5/50\n",
      "50000/50000 [==============================] - 4s 84us/step - loss: 1.6373 - accuracy: 0.4126 - val_loss: 1.7706 - val_accuracy: 0.3890\n",
      "Epoch 6/50\n",
      "50000/50000 [==============================] - 4s 87us/step - loss: 1.6330 - accuracy: 0.4182 - val_loss: 1.6790 - val_accuracy: 0.3976\n",
      "Epoch 7/50\n",
      "50000/50000 [==============================] - 4s 87us/step - loss: 1.6196 - accuracy: 0.4227 - val_loss: 1.6827 - val_accuracy: 0.3945\n",
      "Epoch 8/50\n",
      "50000/50000 [==============================] - 4s 83us/step - loss: 1.6053 - accuracy: 0.4295 - val_loss: 1.7141 - val_accuracy: 0.3947\n",
      "Epoch 9/50\n",
      "50000/50000 [==============================] - 4s 85us/step - loss: 1.5909 - accuracy: 0.4352 - val_loss: 1.7360 - val_accuracy: 0.3952\n",
      "Epoch 10/50\n",
      "50000/50000 [==============================] - 4s 83us/step - loss: 1.6005 - accuracy: 0.4357 - val_loss: 1.7185 - val_accuracy: 0.3923\n",
      "Epoch 11/50\n",
      "50000/50000 [==============================] - 4s 85us/step - loss: 1.5854 - accuracy: 0.4370 - val_loss: 1.6193 - val_accuracy: 0.4298\n",
      "Epoch 12/50\n",
      "50000/50000 [==============================] - 4s 85us/step - loss: 1.5717 - accuracy: 0.4412 - val_loss: 1.7433 - val_accuracy: 0.3874\n",
      "Epoch 13/50\n",
      "50000/50000 [==============================] - 4s 83us/step - loss: 1.5703 - accuracy: 0.4464 - val_loss: 1.6645 - val_accuracy: 0.4159\n",
      "Epoch 14/50\n",
      "50000/50000 [==============================] - 4s 86us/step - loss: 1.5771 - accuracy: 0.4397 - val_loss: 1.7634 - val_accuracy: 0.3915\n",
      "Epoch 15/50\n",
      "50000/50000 [==============================] - 4s 86us/step - loss: 1.5723 - accuracy: 0.4459 - val_loss: 1.6310 - val_accuracy: 0.4250\n",
      "Epoch 16/50\n",
      "50000/50000 [==============================] - 4s 84us/step - loss: 1.5535 - accuracy: 0.4506 - val_loss: 1.7869 - val_accuracy: 0.3927\n",
      "Epoch 17/50\n",
      "50000/50000 [==============================] - 4s 86us/step - loss: 1.5562 - accuracy: 0.4496 - val_loss: 1.6261 - val_accuracy: 0.4354\n",
      "Epoch 18/50\n",
      "50000/50000 [==============================] - 4s 83us/step - loss: 1.5473 - accuracy: 0.4515 - val_loss: 1.6626 - val_accuracy: 0.3992\n",
      "Epoch 19/50\n",
      "50000/50000 [==============================] - 4s 85us/step - loss: 1.5428 - accuracy: 0.4548 - val_loss: 1.6759 - val_accuracy: 0.4122\n",
      "Epoch 20/50\n",
      "50000/50000 [==============================] - 4s 84us/step - loss: 1.5414 - accuracy: 0.4550 - val_loss: 1.6466 - val_accuracy: 0.4302\n",
      "Epoch 21/50\n",
      "50000/50000 [==============================] - 4s 83us/step - loss: 1.5338 - accuracy: 0.4579 - val_loss: 1.7451 - val_accuracy: 0.3883\n",
      "Epoch 22/50\n",
      "50000/50000 [==============================] - 4s 85us/step - loss: 1.5361 - accuracy: 0.4549 - val_loss: 1.6298 - val_accuracy: 0.4361\n",
      "Epoch 23/50\n",
      "18432/50000 [==========>...................] - ETA: 2s - loss: 1.5050 - accuracy: 0.4680"
     ]
    }
   ],
   "source": [
    "results = {}\n",
    "\"\"\"\n",
    "使用迴圈，建立不同 Learning rate 的模型並訓練\n",
    "\"\"\"\n",
    "for lr in LEARNING_RATE:\n",
    "    keras.backend.clear_session() # 把舊的 Graph 清掉\n",
    "    print(\"Experiment with LR = %.6f\" % (lr))\n",
    "    model = build_mlp(input_shape=x_train.shape[1:])\n",
    "    model.summary()\n",
    "    optimizer = keras.optimizers.SGD(lr=lr, nesterov=True, momentum=MOMENTUM)\n",
    "    model.compile(loss=\"categorical_crossentropy\", metrics=[\"accuracy\"], optimizer=optimizer)\n",
    "\n",
    "    model.fit(x_train, y_train, \n",
    "              epochs=EPOCHS, \n",
    "              batch_size=BATCH_SIZE, \n",
    "              validation_data=(x_test, y_test), \n",
    "              shuffle=True)\n",
    "    \n",
    "    # Collect results\n",
    "    train_loss = model.history.history[\"loss\"]\n",
    "    valid_loss = model.history.history[\"val_loss\"]\n",
    "    train_acc = model.history.history[\"acc\"]\n",
    "    valid_acc = model.history.history[\"val_acc\"]\n",
    "    \n",
    "    exp_name_tag = \"exp-lr-%s\" % str(lr)\n",
    "    results[exp_name_tag] = {'train-loss': train_loss,\n",
    "                             'valid-loss': valid_loss,\n",
    "                             'train-acc': train_acc,\n",
    "                             'valid-acc': valid_acc}\n"
   ]
  },
  {
   "cell_type": "code",
   "execution_count": null,
   "metadata": {},
   "outputs": [],
   "source": [
    "import matplotlib.pyplot as plt\n",
    "%matplotlib inline\n",
    "color_bar = [\"r\", \"g\", \"b\", \"y\", \"m\", \"k\"]\n",
    "\n",
    "plt.figure(figsize=(8,6))\n",
    "for i, cond in enumerate(results.keys()):\n",
    "    plt.plot(range(len(results[cond]['train-loss'])),results[cond]['train-loss'], '-', label=cond, color=color_bar[i])\n",
    "    plt.plot(range(len(results[cond]['valid-loss'])),results[cond]['valid-loss'], '--', label=cond, color=color_bar[i])\n",
    "plt.title(\"Loss\")\n",
    "plt.legend()\n",
    "plt.show()\n",
    "\n",
    "plt.figure(figsize=(8,6))\n",
    "for i, cond in enumerate(results.keys()):\n",
    "    plt.plot(range(len(results[cond]['train-acc'])),results[cond]['train-acc'], '-', label=cond, color=color_bar[i])\n",
    "    plt.plot(range(len(results[cond]['valid-acc'])),results[cond]['valid-acc'], '--', label=cond, color=color_bar[i])\n",
    "plt.title(\"Accuracy\")\n",
    "plt.legend()\n",
    "plt.show()"
   ]
  },
  {
   "cell_type": "markdown",
   "metadata": {},
   "source": [
    "## Work\n",
    "1. 請比較 SGD optimizer 不同的 momentum 及使用 nesterov 與否的表現"
   ]
  }
 ],
 "metadata": {
  "kernelspec": {
   "display_name": "Python 3",
   "language": "python",
   "name": "python3"
  },
  "language_info": {
   "codemirror_mode": {
    "name": "ipython",
    "version": 3
   },
   "file_extension": ".py",
   "mimetype": "text/x-python",
   "name": "python",
   "nbconvert_exporter": "python",
   "pygments_lexer": "ipython3",
   "version": "3.6.9"
  }
 },
 "nbformat": 4,
 "nbformat_minor": 2
}
