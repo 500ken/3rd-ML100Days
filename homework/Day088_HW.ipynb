{
 "cells": [
  {
   "cell_type": "markdown",
   "metadata": {},
   "source": [
    "## Work\n",
    "1. 請嘗試寫一個 callback 用來記錄各類別在訓練過程中，對驗證集的 True Positive 與 True Negative"
   ]
  },
  {
   "cell_type": "code",
   "execution_count": 1,
   "metadata": {},
   "outputs": [
    {
     "name": "stderr",
     "output_type": "stream",
     "text": [
      "Using TensorFlow backend.\n"
     ]
    }
   ],
   "source": [
    "import os\n",
    "import keras\n",
    "\n",
    "# Disable GPU\n",
    "os.environ[\"CUDA_VISIBLE_DEVICES\"] = \"\""
   ]
  },
  {
   "cell_type": "code",
   "execution_count": 2,
   "metadata": {},
   "outputs": [],
   "source": [
    "train, test = keras.datasets.cifar10.load_data()"
   ]
  },
  {
   "cell_type": "code",
   "execution_count": 3,
   "metadata": {},
   "outputs": [],
   "source": [
    "## 資料前處理\n",
    "def preproc_x(x, flatten=True):\n",
    "    x = x / 255.\n",
    "    if flatten:\n",
    "        x = x.reshape((len(x), -1))\n",
    "    return x\n",
    "\n",
    "def preproc_y(y, num_classes=10):\n",
    "    if y.shape[-1] == 1:\n",
    "        y = keras.utils.to_categorical(y, num_classes)\n",
    "    return y    "
   ]
  },
  {
   "cell_type": "code",
   "execution_count": 4,
   "metadata": {},
   "outputs": [],
   "source": [
    "x_train, y_train = train\n",
    "x_test, y_test = test\n",
    "\n",
    "# Preproc the inputs\n",
    "x_train = preproc_x(x_train)\n",
    "x_test = preproc_x(x_test)\n",
    "\n",
    "# Preprc the outputs\n",
    "y_train = preproc_y(y_train)\n",
    "y_test = preproc_y(y_test)"
   ]
  },
  {
   "cell_type": "code",
   "execution_count": 5,
   "metadata": {},
   "outputs": [],
   "source": [
    "from keras.layers import BatchNormalization\n",
    "def build_mlp(input_shape, output_units=10, num_neurons=[256, 256, 256]):\n",
    "    input_layer = keras.layers.Input(input_shape)\n",
    "    \n",
    "    for i, n_units in enumerate(num_neurons):\n",
    "        if i == 0:\n",
    "            x = keras.layers.Dense(units=n_units, \n",
    "                                   activation=\"relu\", \n",
    "                                   name=\"hidden_layer\"+str(i+1))(input_layer)\n",
    "            x = BatchNormalization()(x)\n",
    "        else:\n",
    "            x = keras.layers.Dense(units=n_units, \n",
    "                                   activation=\"relu\", \n",
    "                                   name=\"hidden_layer\"+str(i+1))(x)\n",
    "            x = BatchNormalization()(x)\n",
    "    \n",
    "    out = keras.layers.Dense(units=output_units, activation=\"softmax\", name=\"output\")(x)\n",
    "    \n",
    "    model = keras.models.Model(inputs=[input_layer], outputs=[out])\n",
    "    return model"
   ]
  },
  {
   "cell_type": "code",
   "execution_count": 6,
   "metadata": {},
   "outputs": [],
   "source": [
    "## 超參數設定\n",
    "LEARNING_RATE = 1e-3\n",
    "EPOCHS = 25\n",
    "BATCH_SIZE = 1024\n",
    "MOMENTUM = 0.95"
   ]
  },
  {
   "cell_type": "code",
   "execution_count": 9,
   "metadata": {},
   "outputs": [],
   "source": [
    "# 載入 Callbacks\n",
    "from keras.callbacks import Callback\n",
    "import numpy as np\n",
    "# Record_tp_tn\n",
    "class Record_tp_tn(Callback):\n",
    "    \"\"\"Code Here\n",
    "    撰寫一個紀錄 ture positive 與 true negative 數量的 callbacks    \n",
    "    \"\"\"\n",
    "    def on_train_begin(self, epoch, logs = {}):\n",
    "        logs = logs or {}\n",
    "        record_items = [\"val_auc\", \"val_f1sc\", \"val_fp\", \"val_fn\"]\n",
    "        for i in record_items:\n",
    "            if i not in self.params['metrics']:\n",
    "                self.params['metrics'].append(i)\n",
    "    \n",
    "    def on_epoch_end(self, epoch, logs = {}, thres=0.5):\n",
    "        logs = logs or {}\n",
    "        y_true = self.validation_data[1].argmax(axis = 1)\n",
    "        y_pred = self.model.predict(self.validation_data[0])\n",
    "        y_pred = (y_pred[:, 1] >= thres) * 1\n",
    "        \n",
    "        logs[\"val_tp\"] = np.sum(np.logical_and(y_pred == 1, y_true == 1))\n",
    "        logs[\"val_tn\"] = np.sum(np.logical_and(y_pred == 0, y_true == 0))\n",
    " \n",
    "rec_tptn = Record_tp_tn()"
   ]
  },
  {
   "cell_type": "code",
   "execution_count": 10,
   "metadata": {
    "scrolled": true
   },
   "outputs": [
    {
     "name": "stdout",
     "output_type": "stream",
     "text": [
      "Model: \"model_2\"\n",
      "_________________________________________________________________\n",
      "Layer (type)                 Output Shape              Param #   \n",
      "=================================================================\n",
      "input_2 (InputLayer)         (None, 3072)              0         \n",
      "_________________________________________________________________\n",
      "hidden_layer1 (Dense)        (None, 256)               786688    \n",
      "_________________________________________________________________\n",
      "batch_normalization_4 (Batch (None, 256)               1024      \n",
      "_________________________________________________________________\n",
      "hidden_layer2 (Dense)        (None, 256)               65792     \n",
      "_________________________________________________________________\n",
      "batch_normalization_5 (Batch (None, 256)               1024      \n",
      "_________________________________________________________________\n",
      "hidden_layer3 (Dense)        (None, 256)               65792     \n",
      "_________________________________________________________________\n",
      "batch_normalization_6 (Batch (None, 256)               1024      \n",
      "_________________________________________________________________\n",
      "output (Dense)               (None, 10)                2570      \n",
      "=================================================================\n",
      "Total params: 923,914\n",
      "Trainable params: 922,378\n",
      "Non-trainable params: 1,536\n",
      "_________________________________________________________________\n",
      "Train on 50000 samples, validate on 10000 samples\n",
      "Epoch 1/25\n",
      "50000/50000 [==============================] - 3s 59us/step - loss: 2.2116 - accuracy: 0.2721 - val_loss: 2.1606 - val_accuracy: 0.1902\n",
      "Epoch 2/25\n",
      "50000/50000 [==============================] - 3s 51us/step - loss: 1.7600 - accuracy: 0.3837 - val_loss: 2.0003 - val_accuracy: 0.2756\n",
      "Epoch 3/25\n",
      "50000/50000 [==============================] - 3s 51us/step - loss: 1.6351 - accuracy: 0.4235 - val_loss: 1.8420 - val_accuracy: 0.3587\n",
      "Epoch 4/25\n",
      "50000/50000 [==============================] - 3s 53us/step - loss: 1.5645 - accuracy: 0.4495 - val_loss: 1.7062 - val_accuracy: 0.4059\n",
      "Epoch 5/25\n",
      "50000/50000 [==============================] - 3s 51us/step - loss: 1.5114 - accuracy: 0.4690 - val_loss: 1.6390 - val_accuracy: 0.4235\n",
      "Epoch 6/25\n",
      "50000/50000 [==============================] - 3s 51us/step - loss: 1.4675 - accuracy: 0.4848 - val_loss: 1.5766 - val_accuracy: 0.4402\n",
      "Epoch 7/25\n",
      "50000/50000 [==============================] - 3s 52us/step - loss: 1.4316 - accuracy: 0.4981 - val_loss: 1.5458 - val_accuracy: 0.4555\n",
      "Epoch 8/25\n",
      "50000/50000 [==============================] - 3s 50us/step - loss: 1.3984 - accuracy: 0.5092 - val_loss: 1.5222 - val_accuracy: 0.4585\n",
      "Epoch 9/25\n",
      "50000/50000 [==============================] - 3s 51us/step - loss: 1.3696 - accuracy: 0.5200 - val_loss: 1.5083 - val_accuracy: 0.4667\n",
      "Epoch 10/25\n",
      "50000/50000 [==============================] - 3s 51us/step - loss: 1.3436 - accuracy: 0.5285 - val_loss: 1.4967 - val_accuracy: 0.4705\n",
      "Epoch 11/25\n",
      "50000/50000 [==============================] - 3s 51us/step - loss: 1.3180 - accuracy: 0.5394 - val_loss: 1.4879 - val_accuracy: 0.4720\n",
      "Epoch 12/25\n",
      "50000/50000 [==============================] - 3s 51us/step - loss: 1.2948 - accuracy: 0.5471 - val_loss: 1.4801 - val_accuracy: 0.4753\n",
      "Epoch 13/25\n",
      "50000/50000 [==============================] - 3s 51us/step - loss: 1.2736 - accuracy: 0.5561 - val_loss: 1.4682 - val_accuracy: 0.4792\n",
      "Epoch 14/25\n",
      "50000/50000 [==============================] - 3s 52us/step - loss: 1.2512 - accuracy: 0.5627 - val_loss: 1.4689 - val_accuracy: 0.4805\n",
      "Epoch 15/25\n",
      "50000/50000 [==============================] - 3s 52us/step - loss: 1.2318 - accuracy: 0.5722 - val_loss: 1.4562 - val_accuracy: 0.4877\n",
      "Epoch 16/25\n",
      "50000/50000 [==============================] - 3s 53us/step - loss: 1.2108 - accuracy: 0.5781 - val_loss: 1.4548 - val_accuracy: 0.4892\n",
      "Epoch 17/25\n",
      "50000/50000 [==============================] - 3s 56us/step - loss: 1.1903 - accuracy: 0.5859 - val_loss: 1.4593 - val_accuracy: 0.4879\n",
      "Epoch 18/25\n",
      "50000/50000 [==============================] - 3s 53us/step - loss: 1.1726 - accuracy: 0.5940 - val_loss: 1.4584 - val_accuracy: 0.4836\n",
      "Epoch 19/25\n",
      "50000/50000 [==============================] - 3s 51us/step - loss: 1.1528 - accuracy: 0.6011 - val_loss: 1.4662 - val_accuracy: 0.4855\n",
      "Epoch 20/25\n",
      "50000/50000 [==============================] - 3s 51us/step - loss: 1.1369 - accuracy: 0.6068 - val_loss: 1.4502 - val_accuracy: 0.4969\n",
      "Epoch 21/25\n",
      "50000/50000 [==============================] - 3s 51us/step - loss: 1.1191 - accuracy: 0.6136 - val_loss: 1.4464 - val_accuracy: 0.4896\n",
      "Epoch 22/25\n",
      "50000/50000 [==============================] - 3s 53us/step - loss: 1.1014 - accuracy: 0.6200 - val_loss: 1.4549 - val_accuracy: 0.4920\n",
      "Epoch 23/25\n",
      "50000/50000 [==============================] - 3s 54us/step - loss: 1.0849 - accuracy: 0.6271 - val_loss: 1.4480 - val_accuracy: 0.4969\n",
      "Epoch 24/25\n",
      "50000/50000 [==============================] - 3s 53us/step - loss: 1.0681 - accuracy: 0.6350 - val_loss: 1.4365 - val_accuracy: 0.4985\n",
      "Epoch 25/25\n",
      "50000/50000 [==============================] - 3s 54us/step - loss: 1.0504 - accuracy: 0.6385 - val_loss: 1.4565 - val_accuracy: 0.4904\n"
     ]
    }
   ],
   "source": [
    "model = build_mlp(input_shape=x_train.shape[1:])\n",
    "model.summary()\n",
    "optimizer = keras.optimizers.SGD(lr=LEARNING_RATE, nesterov=True, momentum=MOMENTUM)\n",
    "model.compile(loss=\"categorical_crossentropy\", metrics=[\"accuracy\"], optimizer=optimizer)\n",
    "\n",
    "\"\"\"Code Here\n",
    "將 callbacks 放入模型訓練流程中\n",
    "\"\"\"\n",
    "\n",
    "model.fit(x_train, y_train, \n",
    "          epochs=EPOCHS, \n",
    "          batch_size=BATCH_SIZE, \n",
    "          validation_data=(x_test, y_test), \n",
    "          shuffle=True,\n",
    "          callbacks=[rec_tptn])\n",
    "\n",
    "# Collect results\n",
    "train_loss = model.history.history[\"loss\"]\n",
    "valid_loss = model.history.history[\"val_loss\"]\n",
    "train_acc = model.history.history[\"accuracy\"]\n",
    "valid_acc = model.history.history[\"val_accuracy\"]\n",
    "\n",
    "\"\"\"Code Here\n",
    "將 tp/tn 從訓練完的模型中取出\n",
    "\"\"\"\n",
    "valid_tp = model.history.history['val_tp']\n",
    "valid_tn = model.history.history['val_tn']"
   ]
  },
  {
   "cell_type": "code",
   "execution_count": 11,
   "metadata": {},
   "outputs": [
    {
     "data": {
      "image/png": "[encoded data removed]",
      "text/plain": [
       "<Figure size 432x288 with 1 Axes>"
      ]
     },
     "metadata": {
      "needs_background": "light"
     },
     "output_type": "display_data"
    },
    {
     "data": {
      "image/png": "[encoded data removed]",
      "text/plain": [
       "<Figure size 432x288 with 1 Axes>"
      ]
     },
     "metadata": {
      "needs_background": "light"
     },
     "output_type": "display_data"
    },
    {
     "data": {
      "image/png": "[encoded data removed]",
      "text/plain": [
       "<Figure size 432x288 with 1 Axes>"
      ]
     },
     "metadata": {
      "needs_background": "light"
     },
     "output_type": "display_data"
    }
   ],
   "source": [
    "import matplotlib.pyplot as plt\n",
    "%matplotlib inline\n",
    "\n",
    "plt.plot(range(len(train_loss)), train_loss, label=\"train loss\")\n",
    "plt.plot(range(len(valid_loss)), valid_loss, label=\"valid loss\")\n",
    "plt.legend()\n",
    "plt.title(\"Loss\")\n",
    "plt.show()\n",
    "\n",
    "plt.plot(range(len(train_acc)), train_acc, label=\"train accuracy\")\n",
    "plt.plot(range(len(valid_acc)), valid_acc, label=\"valid accuracy\")\n",
    "plt.legend()\n",
    "plt.title(\"Accuracy\")\n",
    "plt.show()\n",
    "\n",
    "plt.plot(range(len(valid_tp)), valid_tp, label=\"valid tp\", color=\"navy\")\n",
    "plt.plot(range(len(valid_tn)), valid_tn, label=\"valid tn\", color=\"red\")\n",
    "plt.legend()\n",
    "plt.title(\"True positives and True Negatives\")\n",
    "plt.show()\n"
   ]
  },
  {
   "cell_type": "code",
   "execution_count": null,
   "metadata": {},
   "outputs": [],
   "source": []
  }
 ],
 "metadata": {
  "kernelspec": {
   "display_name": "Python 3",
   "language": "python",
   "name": "python3"
  },
  "language_info": {
   "codemirror_mode": {
    "name": "ipython",
    "version": 3
   },
   "file_extension": ".py",
   "mimetype": "text/x-python",
   "name": "python",
   "nbconvert_exporter": "python",
   "pygments_lexer": "ipython3",
   "version": "3.6.9"
  }
 },
 "nbformat": 4,
 "nbformat_minor": 2
}
