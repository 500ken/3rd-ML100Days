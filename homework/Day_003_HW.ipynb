{
 "cells": [
  {
   "cell_type": "markdown",
   "metadata": {},
   "source": [
    "## [作業目標]\n",
    "持續接觸有關機器學習的相關專案與最新技術"
   ]
  },
  {
   "cell_type": "markdown",
   "metadata": {},
   "source": [
    "## [作業重點]\n",
    "透過觀察頂尖公司的機器學習文章，來了解各公司是怎麼應用機器學習在實際的專案上"
   ]
  },
  {
   "cell_type": "markdown",
   "metadata": {},
   "source": [
    "## [作業]\n",
    "今天的作業希望大家能夠看看全球機器學習巨頭們在做的機器學習專案。以 google 為例，下圖是 Google 內部專案使用機器學習的數量，隨著時間進展，現在早已超過 2000 個專案在使用機器學習。"
   ]
  },
  {
   "cell_type": "markdown",
   "metadata": {},
   "source": [
    "![image](https://cdn-images-1.medium.com/max/800/1*U_L8qI8RmYS-MOBrYvXhSA.png)"
   ]
  },
  {
   "cell_type": "markdown",
   "metadata": {},
   "source": [
    "底下幫同學整理幾間知名企業的 blog 或機器學習網站 (自行搜尋也可)，這些網站都會整理最新的機器學習專案或者是技術文章，請挑選一篇文章閱讀並試著回答\n",
    "1. 專案的目標？ (要解決什麼問題）\n",
    "2. 使用的技術是？ (只需知道名稱即可，例如：使用 CNN 卷積神經網路做影像分類)\n",
    "3. 資料來源？ "
   ]
  },
  {
   "cell_type": "markdown",
   "metadata": {},
   "source": [
    "- [Google AI blog](https://ai.googleblog.com/)\n",
    "- [Facebook Research blog](https://research.fb.com/blog/)\n",
    "- [Apple machine learning journal](https://machinelearning.apple.com/)\n",
    "- [機器之心](https://www.jiqizhixin.com/)\n",
    "- [雷鋒網](http://www.leiphone.com/category/ai)"
   ]
  },
  {
   "cell_type": "code",
   "execution_count": null,
   "metadata": {},
   "outputs": [],
   "source": [
    "機器之心\n",
    "京东城市6篇论文被KDD2019收录，展示AI和大数据在智能城市的落地应用\n",
    "https://www.jiqizhixin.com/articles/2019-08-05-5\n",
    "Urban Traﬀic Prediction from Spatio-Temporal Data Using Deep Meta Learning\n",
    "\n",
    "1.專案的目標？ (要解決什麼問題）\n",
    "          \n",
    "1) 交通資料間複雜的時空相關性，即一個地點的交通狀況會影響其未來一段時間內的交通，也會影響其周圍區域的交通。\n",
    "2) 不同地點間，資料的時空相關性是多樣的，並且這樣的相關性取決於地理資訊，如地點周圍的興趣點，路網結構等。\n",
    "\n",
    "2.使用的技術是？ (只需知道名稱即可，例如：使用 CNN 卷積神經網路做影像分類)\n",
    "Sequence to Sequence架構\n",
    "為了在一般化的非規則空間結構上預測未來交通，首先需要將交通的關聯模式抽象成圖結構。\n",
    "其中，每個點表示的地圖上的地點，而邊表示的是兩個地點間的關聯。\n",
    "接下來，我們提出參數生成的方式，來建模地理資訊對時空相關性的影響。\n",
    "我們用一個模型從節點的地理特徵中，學習節點和邊的特性，而後用這些特性，進而學習時間、空間的關聯性模型。\n",
    "最後用學到的模型進行交通預測。\n",
    "\n",
    "3.資料來源？\n",
    "計程車流量預測\n",
    "    1.Taxi flows\n",
    "    2.POIs\n",
    "    3.Road networks\n",
    "    4.Geo-graph\n",
    "道路車輛速度預測\n",
    "    1.Traffic speed\n",
    "    2.Road networks\n",
    "    3.Geo-graph"
   ]
  }
 ],
 "metadata": {
  "kernelspec": {
   "display_name": "Python 3",
   "language": "python",
   "name": "python3"
  },
  "language_info": {
   "codemirror_mode": {
    "name": "ipython",
    "version": 3
   },
   "file_extension": ".py",
   "mimetype": "text/x-python",
   "name": "python",
   "nbconvert_exporter": "python",
   "pygments_lexer": "ipython3",
   "version": "3.6.6"
  }
 },
 "nbformat": 4,
 "nbformat_minor": 2
}
