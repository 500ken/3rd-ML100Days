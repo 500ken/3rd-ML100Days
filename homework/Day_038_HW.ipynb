{
 "cells": [
  {
   "cell_type": "markdown",
   "metadata": {},
   "source": [
    "## [作業重點]\n",
    "使用 Sklearn 中的線性迴歸模型，來訓練各種資料集，務必了解送進去模型訓練的**資料型態**為何，也請了解模型中各項參數的意義"
   ]
  },
  {
   "cell_type": "markdown",
   "metadata": {},
   "source": [
    "## 作業\n",
    "試著使用 sklearn datasets 的其他資料集 (wine, boston, ...)，來訓練自己的線性迴歸模型。"
   ]
  },
  {
   "cell_type": "markdown",
   "metadata": {},
   "source": [
    "### HINT: 注意 label 的型態，確定資料集的目標是分類還是回歸，在使用正確的模型訓練！"
   ]
  },
  {
   "cell_type": "code",
   "execution_count": 32,
   "metadata": {},
   "outputs": [],
   "source": [
    "import numpy as np\n",
    "import matplotlib.pyplot as plt\n",
    "from sklearn import datasets, linear_model\n",
    "from sklearn.model_selection import train_test_split\n",
    "from sklearn.metrics import mean_squared_error, r2_score, accuracy_score\n",
    "from sklearn import tree\n",
    "from sklearn import metrics"
   ]
  },
  {
   "cell_type": "code",
   "execution_count": 24,
   "metadata": {},
   "outputs": [],
   "source": [
    "wine = datasets.load_wine()\n",
    "boston = datasets.load_boston()\n",
    "breast_cancer = datasets.load_breast_cancer()"
   ]
  },
  {
   "cell_type": "markdown",
   "metadata": {},
   "source": [
    "# wine"
   ]
  },
  {
   "cell_type": "code",
   "execution_count": 25,
   "metadata": {},
   "outputs": [
    {
     "name": "stdout",
     "output_type": "stream",
     "text": [
      "Data shape:  (178, 13)\n"
     ]
    }
   ],
   "source": [
    "x = wine.data\n",
    "y = wine.target\n",
    "print(\"Data shape: \", x.shape) \n",
    "\n",
    "# 切分訓練集/測試集\n",
    "x_train, x_test, y_train, y_test = train_test_split(x, y, test_size=0.1, random_state=42)\n",
    "\n",
    "# 建立一個決策樹分類\n",
    "model = tree.DecisionTreeClassifier()\n",
    " \n",
    "# 將訓練資料丟進去模型訓練\n",
    "model.fit(x_train, y_train)\n",
    "# 將測試資料丟進模型得到預測結果\n",
    "y_pred = model.predict(x_test)"
   ]
  },
  {
   "cell_type": "code",
   "execution_count": 26,
   "metadata": {},
   "outputs": [
    {
     "data": {
      "text/plain": [
       "array([0, 0, 2, 0, 1, 0, 1, 2, 1, 2, 1, 0, 0, 1, 0, 1, 1, 1])"
      ]
     },
     "execution_count": 26,
     "metadata": {},
     "output_type": "execute_result"
    }
   ],
   "source": [
    "y_pred"
   ]
  },
  {
   "cell_type": "code",
   "execution_count": 27,
   "metadata": {},
   "outputs": [
    {
     "data": {
      "text/plain": [
       "array([0, 0, 2, 0, 1, 0, 1, 2, 1, 2, 0, 2, 0, 1, 0, 1, 1, 1])"
      ]
     },
     "execution_count": 27,
     "metadata": {},
     "output_type": "execute_result"
    }
   ],
   "source": [
    "y_test"
   ]
  },
  {
   "cell_type": "code",
   "execution_count": 34,
   "metadata": {},
   "outputs": [
    {
     "name": "stdout",
     "output_type": "stream",
     "text": [
      "tree.ExtraTreeClassifier(): \n",
      "              precision    recall  f1-score   support\n",
      "\n",
      "     class_0       0.86      0.86      0.86         7\n",
      "     class_1       0.88      1.00      0.93         7\n",
      "     class_2       1.00      0.75      0.86         4\n",
      "\n",
      "    accuracy                           0.89        18\n",
      "   macro avg       0.91      0.87      0.88        18\n",
      "weighted avg       0.90      0.89      0.89        18\n",
      "\n"
     ]
    }
   ],
   "source": [
    "# summarize the fit of the model\n",
    "print('tree.ExtraTreeClassifier(): ')\n",
    "print(metrics.classification_report(y_test, y_pred,target_names=wine.target_names))"
   ]
  },
  {
   "cell_type": "markdown",
   "metadata": {},
   "source": [
    "# boston"
   ]
  },
  {
   "cell_type": "markdown",
   "metadata": {},
   "source": [
    "http://moocs.nccu.edu.tw/media/17898"
   ]
  },
  {
   "cell_type": "code",
   "execution_count": 53,
   "metadata": {},
   "outputs": [
    {
     "data": {
      "text/plain": [
       "array(['CRIM', 'ZN', 'INDUS', 'CHAS', 'NOX', 'RM', 'AGE', 'DIS', 'RAD',\n",
       "       'TAX', 'PTRATIO', 'B', 'LSTAT'], dtype='<U7')"
      ]
     },
     "execution_count": 53,
     "metadata": {},
     "output_type": "execute_result"
    }
   ],
   "source": [
    "boston.feature_names"
   ]
  },
  {
   "cell_type": "code",
   "execution_count": 54,
   "metadata": {},
   "outputs": [
    {
     "name": "stdout",
     "output_type": "stream",
     "text": [
      "Data shape:  (506, 13)\n"
     ]
    }
   ],
   "source": [
    "x = boston.data\n",
    "y = boston.target\n",
    "print(\"Data shape: \", x.shape) \n",
    "\n",
    "# 切分訓練集/測試集\n",
    "x_train, x_test, y_train, y_test = train_test_split(x, y, test_size=0.3, random_state=42)\n",
    "\n",
    "# 建立一個決策樹分類\n",
    "model = linear_model.LinearRegression()\n",
    " \n",
    "# 將訓練資料丟進去模型訓練\n",
    "model.fit(x_train, y_train)\n",
    "# 將測試資料丟進模型得到預測結果\n",
    "y_pred = model.predict(x_test)"
   ]
  },
  {
   "cell_type": "code",
   "execution_count": 55,
   "metadata": {},
   "outputs": [
    {
     "data": {
      "image/png": "[encoded data removed]",
      "text/plain": [
       "<Figure size 432x288 with 1 Axes>"
      ]
     },
     "metadata": {},
     "output_type": "display_data"
    }
   ],
   "source": [
    "# summarize the fit of the model\n",
    "plt.scatter(y_test, y_pred,  color='black')\n",
    "plt.plot([0,50],[0,50],'r')#對角線上為完全命中\n",
    "plt.xlabel('True Price')\n",
    "plt.ylabel('Pred Price')\n",
    "plt.show()"
   ]
  },
  {
   "cell_type": "markdown",
   "metadata": {},
   "source": [
    "# breast_cancer"
   ]
  },
  {
   "cell_type": "code",
   "execution_count": null,
   "metadata": {},
   "outputs": [],
   "source": [
    "malignant惡性 benign良性"
   ]
  },
  {
   "cell_type": "code",
   "execution_count": 58,
   "metadata": {},
   "outputs": [
    {
     "name": "stdout",
     "output_type": "stream",
     "text": [
      "Data shape:  (569, 30)\n"
     ]
    }
   ],
   "source": [
    "x = breast_cancer.data\n",
    "y = breast_cancer.target\n",
    "print(\"Data shape: \", x.shape) \n",
    "\n",
    "# 切分訓練集/測試集\n",
    "x_train, x_test, y_train, y_test = train_test_split(x, y, test_size=0.1, random_state=42)\n",
    "\n",
    "# 建立一個決策樹分類\n",
    "model = tree.DecisionTreeClassifier()\n",
    " \n",
    "# 將訓練資料丟進去模型訓練\n",
    "model.fit(x_train, y_train)\n",
    "# 將測試資料丟進模型得到預測結果\n",
    "y_pred = model.predict(x_test)"
   ]
  },
  {
   "cell_type": "code",
   "execution_count": 60,
   "metadata": {},
   "outputs": [
    {
     "name": "stdout",
     "output_type": "stream",
     "text": [
      "tree.ExtraTreeClassifier(): \n",
      "              precision    recall  f1-score   support\n",
      "\n",
      "   malignant       0.88      0.82      0.85        17\n",
      "      benign       0.93      0.95      0.94        40\n",
      "\n",
      "    accuracy                           0.91        57\n",
      "   macro avg       0.90      0.89      0.89        57\n",
      "weighted avg       0.91      0.91      0.91        57\n",
      "\n"
     ]
    }
   ],
   "source": [
    "# summarize the fit of the model\n",
    "print('tree.ExtraTreeClassifier(): ')\n",
    "print(metrics.classification_report(y_test, y_pred,target_names=breast_cancer.target_names))"
   ]
  },
  {
   "cell_type": "code",
   "execution_count": null,
   "metadata": {},
   "outputs": [],
   "source": []
  }
 ],
 "metadata": {
  "kernelspec": {
   "display_name": "Python 3",
   "language": "python",
   "name": "python3"
  },
  "language_info": {
   "codemirror_mode": {
    "name": "ipython",
    "version": 3
   },
   "file_extension": ".py",
   "mimetype": "text/x-python",
   "name": "python",
   "nbconvert_exporter": "python",
   "pygments_lexer": "ipython3",
   "version": "3.6.6"
  }
 },
 "nbformat": 4,
 "nbformat_minor": 2
}
